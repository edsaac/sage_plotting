{
 "cells": [
  {
   "cell_type": "code",
   "execution_count": 8,
   "metadata": {},
   "outputs": [],
   "source": [
    "import pandas as pd\n",
    "import matplotlib.pyplot as plt\n",
    "import sage_data_client\n",
    "\n",
    "import shutil, os\n",
    "import requests\n",
    "from requests.auth import HTTPBasicAuth"
   ]
  },
  {
   "cell_type": "code",
   "execution_count": 9,
   "metadata": {},
   "outputs": [],
   "source": [
    "PATH_TO_IMAGES_FOLDER = 'images'\n",
    "\n",
    "if os.path.exists(PATH_TO_IMAGES_FOLDER):\n",
    "    shutil.rmtree(PATH_TO_IMAGES_FOLDER)\n",
    "\n",
    "os.mkdir(PATH_TO_IMAGES_FOLDER)"
   ]
  },
  {
   "cell_type": "code",
   "execution_count": 10,
   "metadata": {},
   "outputs": [],
   "source": [
    "images_df = sage_data_client.query(\n",
    "    start=\"-0.5d\",\n",
    "    #end=\"2022-10-10T19:01:25.000Z\",\n",
    "    filter={\n",
    "        \"vsn\": \"W024\",\n",
    "        \"task\": \"imagesampler-bottom\" #or -top or -left\n",
    "    }\n",
    ")"
   ]
  },
  {
   "cell_type": "code",
   "execution_count": 11,
   "metadata": {},
   "outputs": [],
   "source": [
    "images_df.sort_values(\"timestamp\", inplace=True)"
   ]
  },
  {
   "cell_type": "code",
   "execution_count": 12,
   "metadata": {},
   "outputs": [],
   "source": [
    "links = images_df.value"
   ]
  },
  {
   "cell_type": "code",
   "execution_count": 13,
   "metadata": {},
   "outputs": [],
   "source": [
    "auth = HTTPBasicAuth('username', 'password')\n",
    "\n",
    "for i, link in enumerate(links):\n",
    "    response = requests.get(link, auth=auth, stream=True)\n",
    "    if response.status_code == 200:\n",
    "        with open(f'images/img{i:04d}.jpg', 'wb') as f:\n",
    "            shutil.copyfileobj(response.raw, f)\n"
   ]
  }
 ],
 "metadata": {
  "kernelspec": {
   "display_name": "venv",
   "language": "python",
   "name": "python3"
  },
  "language_info": {
   "codemirror_mode": {
    "name": "ipython",
    "version": 3
   },
   "file_extension": ".py",
   "mimetype": "text/x-python",
   "name": "python",
   "nbconvert_exporter": "python",
   "pygments_lexer": "ipython3",
   "version": "3.9.5"
  },
  "orig_nbformat": 4
 },
 "nbformat": 4,
 "nbformat_minor": 2
}
